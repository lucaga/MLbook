{
 "cells": [
  {
   "cell_type": "code",
   "execution_count": 1,
   "metadata": {},
   "outputs": [
    {
     "data": {
      "text/html": [
       "<pre style=\"white-space:pre;overflow-x:auto;line-height:normal;font-family:Menlo,'DejaVu Sans Mono',consolas,'Courier New',monospace\"><span style=\"color: #800080; text-decoration-color: #800080; font-weight: bold\">Investor</span><span style=\"font-weight: bold\">(</span><span style=\"color: #808000; text-decoration-color: #808000\">name</span>=<span style=\"color: #008000; text-decoration-color: #008000\">'John Doe'</span>, <span style=\"color: #808000; text-decoration-color: #808000\">id</span>=<span style=\"color: #008080; text-decoration-color: #008080; font-weight: bold\">123</span>, <span style=\"color: #808000; text-decoration-color: #808000\">cash_balance</span>=<span style=\"color: #008080; text-decoration-color: #008080; font-weight: bold\">10000.0</span>, <span style=\"color: #808000; text-decoration-color: #808000\">portfolios</span>=<span style=\"font-weight: bold\">[])</span>\n",
       "</pre>\n"
      ],
      "text/plain": [
       "\u001b[1;35mInvestor\u001b[0m\u001b[1m(\u001b[0m\u001b[33mname\u001b[0m=\u001b[32m'John Doe'\u001b[0m, \u001b[33mid\u001b[0m=\u001b[1;36m123\u001b[0m, \u001b[33mcash_balance\u001b[0m=\u001b[1;36m10000\u001b[0m\u001b[1;36m.0\u001b[0m, \u001b[33mportfolios\u001b[0m=\u001b[1m[\u001b[0m\u001b[1m]\u001b[0m\u001b[1m)\u001b[0m\n"
      ]
     },
     "metadata": {},
     "output_type": "display_data"
    }
   ],
   "source": [
    "# Import the InvestmentEnvironment module as ItEt\n",
    "import InvestmentEnvironment as ItEt\n",
    "from rich import print\n",
    "\n",
    "\n",
    "\n",
    "\n",
    "\n",
    "investor_name = \"John Doe\"\n",
    "investor_id = 123\n",
    "investor_cash = 10000.0\n",
    "\n",
    "investor = ItEt.Investor(\n",
    "    name=investor_name,\n",
    "    id=investor_id,\n",
    "    cash_balance=investor_cash)\n",
    "\n",
    "    # name: str\n",
    "    # id: int\n",
    "    # cash_balance: float\n",
    "    # portfolios: list[Portfolio] = []\n",
    "\n",
    "\n",
    "print(investor)"
   ]
  },
  {
   "cell_type": "code",
   "execution_count": 2,
   "metadata": {},
   "outputs": [
    {
     "data": {
      "text/html": [
       "<pre style=\"white-space:pre;overflow-x:auto;line-height:normal;font-family:Menlo,'DejaVu Sans Mono',consolas,'Courier New',monospace\"><span style=\"color: #800080; text-decoration-color: #800080; font-weight: bold\">Bank</span><span style=\"font-weight: bold\">(</span>\n",
       "    <span style=\"color: #808000; text-decoration-color: #808000\">market_data_provider</span>=<span style=\"color: #008000; text-decoration-color: #008000\">'degiro'</span>,\n",
       "    <span style=\"color: #808000; text-decoration-color: #808000\">historical_data_store</span>=<span style=\"font-weight: bold\">{}</span>,\n",
       "    <span style=\"color: #808000; text-decoration-color: #808000\">risk_assessment_model</span>=<span style=\"color: #008000; text-decoration-color: #008000\">'risky'</span>,\n",
       "    <span style=\"color: #808000; text-decoration-color: #808000\">stock_data</span>=<span style=\"font-weight: bold\">{}</span>,\n",
       "    <span style=\"color: #808000; text-decoration-color: #808000\">portfolio_data</span>=<span style=\"font-weight: bold\">{}</span>,\n",
       "    <span style=\"color: #808000; text-decoration-color: #808000\">investor_data</span>=<span style=\"font-weight: bold\">{</span><span style=\"color: #008080; text-decoration-color: #008080; font-weight: bold\">123</span>: <span style=\"color: #800080; text-decoration-color: #800080; font-weight: bold\">Investor</span><span style=\"font-weight: bold\">(</span><span style=\"color: #808000; text-decoration-color: #808000\">name</span>=<span style=\"color: #008000; text-decoration-color: #008000\">'John Doe'</span>, <span style=\"color: #808000; text-decoration-color: #808000\">id</span>=<span style=\"color: #008080; text-decoration-color: #008080; font-weight: bold\">123</span>, <span style=\"color: #808000; text-decoration-color: #808000\">cash_balance</span>=<span style=\"color: #008080; text-decoration-color: #008080; font-weight: bold\">10000.0</span>, <span style=\"color: #808000; text-decoration-color: #808000\">portfolios</span>=<span style=\"font-weight: bold\">[])}</span>\n",
       "<span style=\"font-weight: bold\">)</span>\n",
       "</pre>\n"
      ],
      "text/plain": [
       "\u001b[1;35mBank\u001b[0m\u001b[1m(\u001b[0m\n",
       "    \u001b[33mmarket_data_provider\u001b[0m=\u001b[32m'degiro'\u001b[0m,\n",
       "    \u001b[33mhistorical_data_store\u001b[0m=\u001b[1m{\u001b[0m\u001b[1m}\u001b[0m,\n",
       "    \u001b[33mrisk_assessment_model\u001b[0m=\u001b[32m'risky'\u001b[0m,\n",
       "    \u001b[33mstock_data\u001b[0m=\u001b[1m{\u001b[0m\u001b[1m}\u001b[0m,\n",
       "    \u001b[33mportfolio_data\u001b[0m=\u001b[1m{\u001b[0m\u001b[1m}\u001b[0m,\n",
       "    \u001b[33minvestor_data\u001b[0m=\u001b[1m{\u001b[0m\u001b[1;36m123\u001b[0m: \u001b[1;35mInvestor\u001b[0m\u001b[1m(\u001b[0m\u001b[33mname\u001b[0m=\u001b[32m'John Doe'\u001b[0m, \u001b[33mid\u001b[0m=\u001b[1;36m123\u001b[0m, \u001b[33mcash_balance\u001b[0m=\u001b[1;36m10000\u001b[0m\u001b[1;36m.0\u001b[0m, \u001b[33mportfolios\u001b[0m=\u001b[1m[\u001b[0m\u001b[1m]\u001b[0m\u001b[1m)\u001b[0m\u001b[1m}\u001b[0m\n",
       "\u001b[1m)\u001b[0m\n"
      ]
     },
     "metadata": {},
     "output_type": "display_data"
    },
    {
     "data": {
      "text/html": [
       "<pre style=\"white-space:pre;overflow-x:auto;line-height:normal;font-family:Menlo,'DejaVu Sans Mono',consolas,'Courier New',monospace\"><span style=\"color: #800080; text-decoration-color: #800080; font-weight: bold\">Bank</span><span style=\"font-weight: bold\">(</span>\n",
       "    <span style=\"color: #808000; text-decoration-color: #808000\">market_data_provider</span>=<span style=\"color: #008000; text-decoration-color: #008000\">'degiro'</span>,\n",
       "    <span style=\"color: #808000; text-decoration-color: #808000\">historical_data_store</span>=<span style=\"font-weight: bold\">{}</span>,\n",
       "    <span style=\"color: #808000; text-decoration-color: #808000\">risk_assessment_model</span>=<span style=\"color: #008000; text-decoration-color: #008000\">'risky'</span>,\n",
       "    <span style=\"color: #808000; text-decoration-color: #808000\">stock_data</span>=<span style=\"font-weight: bold\">{}</span>,\n",
       "    <span style=\"color: #808000; text-decoration-color: #808000\">portfolio_data</span>=<span style=\"font-weight: bold\">{</span><span style=\"color: #008080; text-decoration-color: #008080; font-weight: bold\">1</span>: <span style=\"color: #800080; text-decoration-color: #800080; font-weight: bold\">Portfolio</span><span style=\"font-weight: bold\">(</span><span style=\"color: #808000; text-decoration-color: #808000\">name</span>=<span style=\"color: #008000; text-decoration-color: #008000\">'My First Portfolio'</span>, <span style=\"color: #808000; text-decoration-color: #808000\">id</span>=<span style=\"color: #008080; text-decoration-color: #008080; font-weight: bold\">1</span>, <span style=\"color: #808000; text-decoration-color: #808000\">investor_id</span>=<span style=\"color: #008080; text-decoration-color: #008080; font-weight: bold\">123</span>, <span style=\"color: #808000; text-decoration-color: #808000\">positions</span>=<span style=\"font-weight: bold\">[])}</span>,\n",
       "    <span style=\"color: #808000; text-decoration-color: #808000\">investor_data</span>=<span style=\"font-weight: bold\">{</span>\n",
       "        <span style=\"color: #008080; text-decoration-color: #008080; font-weight: bold\">123</span>: <span style=\"color: #800080; text-decoration-color: #800080; font-weight: bold\">Investor</span><span style=\"font-weight: bold\">(</span>\n",
       "            <span style=\"color: #808000; text-decoration-color: #808000\">name</span>=<span style=\"color: #008000; text-decoration-color: #008000\">'John Doe'</span>,\n",
       "            <span style=\"color: #808000; text-decoration-color: #808000\">id</span>=<span style=\"color: #008080; text-decoration-color: #008080; font-weight: bold\">123</span>,\n",
       "            <span style=\"color: #808000; text-decoration-color: #808000\">cash_balance</span>=<span style=\"color: #008080; text-decoration-color: #008080; font-weight: bold\">10000.0</span>,\n",
       "            <span style=\"color: #808000; text-decoration-color: #808000\">portfolios</span>=<span style=\"font-weight: bold\">[</span><span style=\"color: #800080; text-decoration-color: #800080; font-weight: bold\">Portfolio</span><span style=\"font-weight: bold\">(</span><span style=\"color: #808000; text-decoration-color: #808000\">name</span>=<span style=\"color: #008000; text-decoration-color: #008000\">'My First Portfolio'</span>, <span style=\"color: #808000; text-decoration-color: #808000\">id</span>=<span style=\"color: #008080; text-decoration-color: #008080; font-weight: bold\">1</span>, <span style=\"color: #808000; text-decoration-color: #808000\">investor_id</span>=<span style=\"color: #008080; text-decoration-color: #008080; font-weight: bold\">123</span>, <span style=\"color: #808000; text-decoration-color: #808000\">positions</span>=<span style=\"font-weight: bold\">[])]</span>\n",
       "        <span style=\"font-weight: bold\">)</span>\n",
       "    <span style=\"font-weight: bold\">}</span>\n",
       "<span style=\"font-weight: bold\">)</span>\n",
       "</pre>\n"
      ],
      "text/plain": [
       "\u001b[1;35mBank\u001b[0m\u001b[1m(\u001b[0m\n",
       "    \u001b[33mmarket_data_provider\u001b[0m=\u001b[32m'degiro'\u001b[0m,\n",
       "    \u001b[33mhistorical_data_store\u001b[0m=\u001b[1m{\u001b[0m\u001b[1m}\u001b[0m,\n",
       "    \u001b[33mrisk_assessment_model\u001b[0m=\u001b[32m'risky'\u001b[0m,\n",
       "    \u001b[33mstock_data\u001b[0m=\u001b[1m{\u001b[0m\u001b[1m}\u001b[0m,\n",
       "    \u001b[33mportfolio_data\u001b[0m=\u001b[1m{\u001b[0m\u001b[1;36m1\u001b[0m: \u001b[1;35mPortfolio\u001b[0m\u001b[1m(\u001b[0m\u001b[33mname\u001b[0m=\u001b[32m'My First Portfolio'\u001b[0m, \u001b[33mid\u001b[0m=\u001b[1;36m1\u001b[0m, \u001b[33minvestor_id\u001b[0m=\u001b[1;36m123\u001b[0m, \u001b[33mpositions\u001b[0m=\u001b[1m[\u001b[0m\u001b[1m]\u001b[0m\u001b[1m)\u001b[0m\u001b[1m}\u001b[0m,\n",
       "    \u001b[33minvestor_data\u001b[0m=\u001b[1m{\u001b[0m\n",
       "        \u001b[1;36m123\u001b[0m: \u001b[1;35mInvestor\u001b[0m\u001b[1m(\u001b[0m\n",
       "            \u001b[33mname\u001b[0m=\u001b[32m'John Doe'\u001b[0m,\n",
       "            \u001b[33mid\u001b[0m=\u001b[1;36m123\u001b[0m,\n",
       "            \u001b[33mcash_balance\u001b[0m=\u001b[1;36m10000\u001b[0m\u001b[1;36m.0\u001b[0m,\n",
       "            \u001b[33mportfolios\u001b[0m=\u001b[1m[\u001b[0m\u001b[1;35mPortfolio\u001b[0m\u001b[1m(\u001b[0m\u001b[33mname\u001b[0m=\u001b[32m'My First Portfolio'\u001b[0m, \u001b[33mid\u001b[0m=\u001b[1;36m1\u001b[0m, \u001b[33minvestor_id\u001b[0m=\u001b[1;36m123\u001b[0m, \u001b[33mpositions\u001b[0m=\u001b[1m[\u001b[0m\u001b[1m]\u001b[0m\u001b[1m)\u001b[0m\u001b[1m]\u001b[0m\n",
       "        \u001b[1m)\u001b[0m\n",
       "    \u001b[1m}\u001b[0m\n",
       "\u001b[1m)\u001b[0m\n"
      ]
     },
     "metadata": {},
     "output_type": "display_data"
    }
   ],
   "source": [
    "\n",
    "\n",
    "bank = ItEt.Bank(\n",
    "    market_data_provider=\"degiro\",\n",
    "    historical_data_store = {},\n",
    "     risk_assessment_model= \"risky\",\n",
    "      stock_data={},\n",
    "       portfolio_data={},\n",
    "        investor_data={} )\n",
    "\n",
    "#     market_data_provider: str  # Assuming a custom type or interface\n",
    "#     historical_data_store: dict[str,Market_data] # this will be my data\n",
    "#     risk_assessment_model: str\n",
    "#     stock_data: dict[str, Stock]\n",
    "#     portfolio_data: dict[int, Portfolio]\n",
    "#     investor_data: dict[int, Investor]\n",
    "\n",
    "        # Add the investor to the bank\n",
    "bank.investor_data[investor.id] = investor\n",
    "\n",
    "print(bank)\n",
    "portfolio_name = \"My First Portfolio\"\n",
    "\n",
    "bank.create_portfolio(investor.id, portfolio_name)\n",
    "\n",
    "#     name: str\n",
    "#     id: int\n",
    "#     investor_id: int\n",
    "#     positions: list[Position]\n",
    "\n",
    "print(bank)\n"
   ]
  },
  {
   "cell_type": "code",
   "execution_count": null,
   "metadata": {},
   "outputs": [],
   "source": []
  }
 ],
 "metadata": {
  "kernelspec": {
   "display_name": "TraderBot",
   "language": "python",
   "name": "python3"
  },
  "language_info": {
   "codemirror_mode": {
    "name": "ipython",
    "version": 3
   },
   "file_extension": ".py",
   "mimetype": "text/x-python",
   "name": "python",
   "nbconvert_exporter": "python",
   "pygments_lexer": "ipython3",
   "version": "3.12.5"
  }
 },
 "nbformat": 4,
 "nbformat_minor": 2
}
