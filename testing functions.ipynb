{
 "cells": [
  {
   "cell_type": "code",
   "execution_count": 2,
   "metadata": {},
   "outputs": [],
   "source": [
    "import polars as pl\n",
    "from rich import print\n",
    "# Sample DataFrame (replace with your actual DataFrame)'\n"
   ]
  },
  {
   "cell_type": "code",
   "execution_count": null,
   "metadata": {},
   "outputs": [],
   "source": [
    "\n",
    "data = {\"open\": [45.1, 44.7, 45.2], \"high\": [45.1, 44.8, 45.3], \"low\": [44.6, 44.5, 44.9], \"close\": [44.7, 44.6, 45.0], \"timestamp\": [\"2024-05-29 09:00:00\", \"2024-05-29 10:00:00\", \"2024-05-29 11:00:00\"]}\n",
    "df = pl.DataFrame(data)\n",
    "\n",
    "# Gather specific columns (excluding timestamp) into a new variable 'value'\n",
    "value_cols = [\"open\", \"high\", \"low\", \"close\"]\n",
    "\n",
    "print(df)\n",
    "\n",
    "melted_df = df.melt(id_vars=\"timestamp\", value_vars=value_cols, variable_name=\"variable\")\n"
   ]
  },
  {
   "cell_type": "code",
   "execution_count": null,
   "metadata": {},
   "outputs": [],
   "source": [
    "\n",
    "print(melted_df)"
   ]
  },
  {
   "cell_type": "code",
   "execution_count": null,
   "metadata": {},
   "outputs": [],
   "source": [
    "addedCol = melted_df.with_columns(three=pl.lit(\"newOne\"))"
   ]
  },
  {
   "cell_type": "code",
   "execution_count": null,
   "metadata": {},
   "outputs": [],
   "source": [
    "print(addedCol)"
   ]
  },
  {
   "cell_type": "code",
   "execution_count": null,
   "metadata": {},
   "outputs": [],
   "source": [
    "mydict = {'issueId': 11797, 'companyId': 175, 'name': 'AALBERTS NV', 'identifier': 'issueid:11797', 'isin': 'NL0000852564', 'alfa': 'AALB', 'market': 'XAMS', 'currency': 'EUR', 'type': 'AAN', 'quality': 'REALTIME'}\n",
    "mydf = pl.from_dict(mydict)\n",
    "print(mydict)"
   ]
  },
  {
   "cell_type": "code",
   "execution_count": null,
   "metadata": {},
   "outputs": [],
   "source": [
    "print(mydf)"
   ]
  },
  {
   "cell_type": "code",
   "execution_count": null,
   "metadata": {},
   "outputs": [],
   "source": [
    "import polars as pl\n",
    "\n",
    "# Sample DataFrames (replace with yours)\n",
    "df1 = pl.DataFrame({\"col1\": [1, 2, 3], \"col2\": [\"a\", \"b\", \"c\"], \"col3\": [4, 5, 6], \"col4\": [7.5, 8.2, 9.1], \"col5\": [\"df1_row1\", \"df1_row2\", \"df1_row3\"]}, rows=7)\n",
    "df2 = pl.DataFrame({\"col6\": [10], \"col7\": [11], \"col8\": [12], \"col9\": [13], \"col10\": [14], \"col11\": [15], \"col12\": [16], \"col13\": [17], \"col14\": [18]}, rows=1)\n"
   ]
  },
  {
   "cell_type": "code",
   "execution_count": null,
   "metadata": {},
   "outputs": [],
   "source": [
    "\n",
    "# Initialize an empty list to store new rows\n",
    "new_rows = []\n",
    "\n",
    "# Iterate through rows of df1 and create copies of df2's row\n",
    "for _ in range(df1.height):  # Loop based on number of rows in df1\n",
    "  new_rows.append(pl.row(pl.lit(x) for x in df2.iloc[0]))  # Use pl.lit for each value in df2's first row\n"
   ]
  },
  {
   "cell_type": "code",
   "execution_count": null,
   "metadata": {},
   "outputs": [],
   "source": [
    "\n",
    "# Concatenate DataFrames using list of new rows\n",
    "df_concat = pl.concat([df1, pl.DataFrame(new_rows)])\n"
   ]
  },
  {
   "cell_type": "code",
   "execution_count": null,
   "metadata": {},
   "outputs": [],
   "source": [
    "\n",
    "print(df_concat)\n"
   ]
  },
  {
   "cell_type": "code",
   "execution_count": null,
   "metadata": {},
   "outputs": [],
   "source": [
    "import polars as pl\n",
    "\n",
    "# Sample DataFrames (replace with yours)\n",
    "df1 = pl.DataFrame({\"col1\": [1, 2, 3], \"col2\": [\"a\", \"b\", \"c\"], \"col3\": [4, 5, 6], \"col4\": [7.5, 8.2, 9.1], \"col5\": [\"df1_row1\", \"df1_row2\", \"df1_row3\"]})\n",
    "df2 = pl.DataFrame({\"col6\": [10], \"col7\": [11], \"col8\": [12], \"col9\": [13], \"col10\": [14], \"col11\": [15], \"col12\": [16], \"col13\": [17], \"col14\": [18]})\n",
    "\n",
    "# Repeat df2's row 7 times (matching df1's rows)\n",
    "df2_repeated = df2.tile(7)  # Use tile to repeat the DataFrame\n",
    "\n",
    "# Concatenate DataFrames\n",
    "df_concat = pl.concat([df1, df2_repeated])\n",
    "\n",
    "print(df_concat)\n"
   ]
  },
  {
   "cell_type": "code",
   "execution_count": null,
   "metadata": {},
   "outputs": [],
   "source": [
    "import polars as pl\n",
    "\n",
    "# Sample DataFrames (replace with yours)\n",
    "df1 = pl.DataFrame({\"col1\": [1, 2, 3], \"col2\": [\"a\", \"b\", \"c\"], \"col3\": [4, 5, 6], \"col4\": [7.5, 8.2, 9.1], \"col5\": [\"df1_row1\", \"df1_row2\", \"df1_row3\"]})\n",
    "df2 = pl.DataFrame({\"col6\": [10], \"col7\": [11], \"col8\": [12], \"col9\": [13], \"col10\": [14], \"col11\": [15], \"col12\": [16], \"col13\": [17], \"col14\": [18]})\n",
    "\n",
    "# Number of times to repeat df2\n",
    "n_repeats = len(df1) - len(df2) + 1 \n",
    "print(n_repeats)\n",
    "\n",
    "# Initialize an empty list to store DataFrames\n",
    "df_list = []\n",
    "\n",
    "# Loop and concatenate copies of df2\n",
    "for _ in range(n_repeats):\n",
    "  df_list.append(df2)\n",
    "\n",
    "# print(df_list)\n",
    "\n",
    "# Concatenate DataFrames in the list\n",
    "df_concat = pl.concat(df_list)\n",
    "# print(df_concat)\n",
    "\n",
    "# Concatenate with df1\n",
    "final_df = pl.concat([df1, df_concat],how=\"horizontal\")\n",
    "\n",
    "print(final_df)\n"
   ]
  },
  {
   "cell_type": "code",
   "execution_count": 3,
   "metadata": {},
   "outputs": [
    {
     "data": {
      "text/html": [
       "<pre style=\"white-space:pre;overflow-x:auto;line-height:normal;font-family:Menlo,'DejaVu Sans Mono',consolas,'Courier New',monospace\">shape: <span style=\"font-weight: bold\">(</span><span style=\"color: #008080; text-decoration-color: #008080; font-weight: bold\">5</span>, <span style=\"color: #008080; text-decoration-color: #008080; font-weight: bold\">3</span><span style=\"font-weight: bold\">)</span>\n",
       "┌────────────┬───────┬───────────┐\n",
       "│ identifier ┆ value ┆ timestamp │\n",
       "│ ---        ┆ ---   ┆ ---       │\n",
       "│ str        ┆ i64   ┆ i64       │\n",
       "╞════════════╪═══════╪═══════════╡\n",
       "│ A          ┆ <span style=\"color: #008080; text-decoration-color: #008080; font-weight: bold\">10</span>    ┆ <span style=\"color: #008080; text-decoration-color: #008080; font-weight: bold\">1</span>         │\n",
       "│ A          ┆ <span style=\"color: #008080; text-decoration-color: #008080; font-weight: bold\">20</span>    ┆ <span style=\"color: #008080; text-decoration-color: #008080; font-weight: bold\">2</span>         │\n",
       "│ B          ┆ <span style=\"color: #008080; text-decoration-color: #008080; font-weight: bold\">30</span>    ┆ <span style=\"color: #008080; text-decoration-color: #008080; font-weight: bold\">3</span>         │\n",
       "│ B          ┆ <span style=\"color: #008080; text-decoration-color: #008080; font-weight: bold\">40</span>    ┆ <span style=\"color: #008080; text-decoration-color: #008080; font-weight: bold\">4</span>         │\n",
       "│ C          ┆ <span style=\"color: #008080; text-decoration-color: #008080; font-weight: bold\">50</span>    ┆ <span style=\"color: #008080; text-decoration-color: #008080; font-weight: bold\">5</span>         │\n",
       "└────────────┴───────┴───────────┘\n",
       "</pre>\n"
      ],
      "text/plain": [
       "shape: \u001b[1m(\u001b[0m\u001b[1;36m5\u001b[0m, \u001b[1;36m3\u001b[0m\u001b[1m)\u001b[0m\n",
       "┌────────────┬───────┬───────────┐\n",
       "│ identifier ┆ value ┆ timestamp │\n",
       "│ ---        ┆ ---   ┆ ---       │\n",
       "│ str        ┆ i64   ┆ i64       │\n",
       "╞════════════╪═══════╪═══════════╡\n",
       "│ A          ┆ \u001b[1;36m10\u001b[0m    ┆ \u001b[1;36m1\u001b[0m         │\n",
       "│ A          ┆ \u001b[1;36m20\u001b[0m    ┆ \u001b[1;36m2\u001b[0m         │\n",
       "│ B          ┆ \u001b[1;36m30\u001b[0m    ┆ \u001b[1;36m3\u001b[0m         │\n",
       "│ B          ┆ \u001b[1;36m40\u001b[0m    ┆ \u001b[1;36m4\u001b[0m         │\n",
       "│ C          ┆ \u001b[1;36m50\u001b[0m    ┆ \u001b[1;36m5\u001b[0m         │\n",
       "└────────────┴───────┴───────────┘\n"
      ]
     },
     "metadata": {},
     "output_type": "display_data"
    }
   ],
   "source": [
    "import polars as pl\n",
    "\n",
    "# Sample DataFrame (assuming you have it defined)\n",
    "data = {\"identifier\": [\"A\", \"A\", \"B\", \"B\", \"C\"], \"value\": [10, 20, 30, 40, 50], \"timestamp\": [1, 2, 3, 4, 5]}\n",
    "df = pl.DataFrame(data)\n",
    "print(df)\n"
   ]
  },
  {
   "cell_type": "code",
   "execution_count": 8,
   "metadata": {},
   "outputs": [
    {
     "ename": "ColumnNotFoundError",
     "evalue": "id",
     "output_type": "error",
     "traceback": [
      "\u001b[0;31m---------------------------------------------------------------------------\u001b[0m",
      "\u001b[0;31mColumnNotFoundError\u001b[0m                       Traceback (most recent call last)",
      "Cell \u001b[0;32mIn[8], line 2\u001b[0m\n\u001b[1;32m      1\u001b[0m filtered_selected_df \u001b[38;5;241m=\u001b[39m \u001b[43mdf\u001b[49m\u001b[38;5;241;43m.\u001b[39;49m\u001b[43mfilter\u001b[49m\u001b[43m(\u001b[49m\n\u001b[0;32m----> 2\u001b[0m \u001b[43m    \u001b[49m\u001b[43mpl\u001b[49m\u001b[38;5;241;43m.\u001b[39;49m\u001b[43mcol\u001b[49m\u001b[43m(\u001b[49m\u001b[38;5;124;43m\"\u001b[39;49m\u001b[38;5;124;43mvalue\u001b[39;49m\u001b[38;5;124;43m\"\u001b[39;49m\u001b[43m)\u001b[49m\u001b[43m \u001b[49m\u001b[38;5;241;43m>\u001b[39;49m\u001b[43m \u001b[49m\u001b[38;5;241;43m25\u001b[39;49m\u001b[43m)\u001b[49m\u001b[38;5;241;43m.\u001b[39;49m\u001b[43mselect\u001b[49m\u001b[43m(\u001b[49m\u001b[43m[\u001b[49m\u001b[43mpl\u001b[49m\u001b[38;5;241;43m.\u001b[39;49m\u001b[43mcol\u001b[49m\u001b[43m(\u001b[49m\u001b[38;5;124;43m\"\u001b[39;49m\u001b[38;5;124;43mid\u001b[39;49m\u001b[38;5;124;43m\"\u001b[39;49m\u001b[43m)\u001b[49m\u001b[43m,\u001b[49m\u001b[43m \u001b[49m\n\u001b[1;32m      3\u001b[0m \u001b[43m    \u001b[49m\u001b[43mpl\u001b[49m\u001b[38;5;241;43m.\u001b[39;49m\u001b[43mcol\u001b[49m\u001b[43m(\u001b[49m\u001b[38;5;124;43m\"\u001b[39;49m\u001b[38;5;124;43midentifier\u001b[39;49m\u001b[38;5;124;43m\"\u001b[39;49m\u001b[43m)\u001b[49m\u001b[38;5;241;43m.\u001b[39;49m\u001b[43mstr\u001b[49m\u001b[38;5;241;43m.\u001b[39;49m\u001b[43mreverse\u001b[49m\u001b[43m(\u001b[49m\u001b[43m)\u001b[49m\u001b[43m]\u001b[49m\n\u001b[1;32m      4\u001b[0m \u001b[43m    \u001b[49m\u001b[43m)\u001b[49m  \u001b[38;5;66;03m# Apply str.upper() to category\u001b[39;00m\n\u001b[1;32m      6\u001b[0m \u001b[38;5;28mprint\u001b[39m(filtered_selected_df)\n",
      "File \u001b[0;32m~/miniforge3/envs/TraderBot/lib/python3.12/site-packages/polars/dataframe/frame.py:8069\u001b[0m, in \u001b[0;36mDataFrame.select\u001b[0;34m(self, *exprs, **named_exprs)\u001b[0m\n\u001b[1;32m   7969\u001b[0m \u001b[38;5;28;01mdef\u001b[39;00m \u001b[38;5;21mselect\u001b[39m(\n\u001b[1;32m   7970\u001b[0m     \u001b[38;5;28mself\u001b[39m, \u001b[38;5;241m*\u001b[39mexprs: IntoExpr \u001b[38;5;241m|\u001b[39m Iterable[IntoExpr], \u001b[38;5;241m*\u001b[39m\u001b[38;5;241m*\u001b[39mnamed_exprs: IntoExpr\n\u001b[1;32m   7971\u001b[0m ) \u001b[38;5;241m-\u001b[39m\u001b[38;5;241m>\u001b[39m DataFrame:\n\u001b[1;32m   7972\u001b[0m \u001b[38;5;250m    \u001b[39m\u001b[38;5;124;03m\"\"\"\u001b[39;00m\n\u001b[1;32m   7973\u001b[0m \u001b[38;5;124;03m    Select columns from this DataFrame.\u001b[39;00m\n\u001b[1;32m   7974\u001b[0m \n\u001b[0;32m   (...)\u001b[0m\n\u001b[1;32m   8067\u001b[0m \u001b[38;5;124;03m    └───────────┘\u001b[39;00m\n\u001b[1;32m   8068\u001b[0m \u001b[38;5;124;03m    \"\"\"\u001b[39;00m\n\u001b[0;32m-> 8069\u001b[0m     \u001b[38;5;28;01mreturn\u001b[39;00m \u001b[38;5;28;43mself\u001b[39;49m\u001b[38;5;241;43m.\u001b[39;49m\u001b[43mlazy\u001b[49m\u001b[43m(\u001b[49m\u001b[43m)\u001b[49m\u001b[38;5;241;43m.\u001b[39;49m\u001b[43mselect\u001b[49m\u001b[43m(\u001b[49m\u001b[38;5;241;43m*\u001b[39;49m\u001b[43mexprs\u001b[49m\u001b[43m,\u001b[49m\u001b[43m \u001b[49m\u001b[38;5;241;43m*\u001b[39;49m\u001b[38;5;241;43m*\u001b[39;49m\u001b[43mnamed_exprs\u001b[49m\u001b[43m)\u001b[49m\u001b[38;5;241;43m.\u001b[39;49m\u001b[43mcollect\u001b[49m\u001b[43m(\u001b[49m\u001b[43m_eager\u001b[49m\u001b[38;5;241;43m=\u001b[39;49m\u001b[38;5;28;43;01mTrue\u001b[39;49;00m\u001b[43m)\u001b[49m\n",
      "File \u001b[0;32m~/miniforge3/envs/TraderBot/lib/python3.12/site-packages/polars/lazyframe/frame.py:1816\u001b[0m, in \u001b[0;36mLazyFrame.collect\u001b[0;34m(self, type_coercion, predicate_pushdown, projection_pushdown, simplify_expression, slice_pushdown, comm_subplan_elim, comm_subexpr_elim, no_optimization, streaming, background, _eager, **_kwargs)\u001b[0m\n\u001b[1;32m   1813\u001b[0m \u001b[38;5;66;03m# Only for testing purposes atm.\u001b[39;00m\n\u001b[1;32m   1814\u001b[0m callback \u001b[38;5;241m=\u001b[39m _kwargs\u001b[38;5;241m.\u001b[39mget(\u001b[38;5;124m\"\u001b[39m\u001b[38;5;124mpost_opt_callback\u001b[39m\u001b[38;5;124m\"\u001b[39m)\n\u001b[0;32m-> 1816\u001b[0m \u001b[38;5;28;01mreturn\u001b[39;00m wrap_df(\u001b[43mldf\u001b[49m\u001b[38;5;241;43m.\u001b[39;49m\u001b[43mcollect\u001b[49m\u001b[43m(\u001b[49m\u001b[43mcallback\u001b[49m\u001b[43m)\u001b[49m)\n",
      "\u001b[0;31mColumnNotFoundError\u001b[0m: id"
     ]
    }
   ],
   "source": [
    "filtered_selected_df = df.filter(\n",
    "    pl.col(\"value\") > 25).select([pl.col(\"id\"), \n",
    "    pl.col(\"identifier\").str.reverse()]\n",
    "    )  # Apply str.upper() to category\n",
    "\n",
    "print(filtered_selected_df)\n"
   ]
  },
  {
   "cell_type": "code",
   "execution_count": 6,
   "metadata": {},
   "outputs": [
    {
     "data": {
      "text/html": [
       "<pre style=\"white-space:pre;overflow-x:auto;line-height:normal;font-family:Menlo,'DejaVu Sans Mono',consolas,'Courier New',monospace\">shape: <span style=\"font-weight: bold\">(</span><span style=\"color: #008080; text-decoration-color: #008080; font-weight: bold\">5</span>, <span style=\"color: #008080; text-decoration-color: #008080; font-weight: bold\">2</span><span style=\"font-weight: bold\">)</span>\n",
       "┌────────────┬───────┐\n",
       "│ identifier ┆ value │\n",
       "│ ---        ┆ ---   │\n",
       "│ str        ┆ i64   │\n",
       "╞════════════╪═══════╡\n",
       "│ A          ┆ <span style=\"color: #008080; text-decoration-color: #008080; font-weight: bold\">20</span>    │\n",
       "│ A          ┆ <span style=\"color: #008080; text-decoration-color: #008080; font-weight: bold\">40</span>    │\n",
       "│ B          ┆ <span style=\"color: #008080; text-decoration-color: #008080; font-weight: bold\">60</span>    │\n",
       "│ B          ┆ <span style=\"color: #008080; text-decoration-color: #008080; font-weight: bold\">80</span>    │\n",
       "│ C          ┆ <span style=\"color: #008080; text-decoration-color: #008080; font-weight: bold\">100</span>   │\n",
       "└────────────┴───────┘\n",
       "</pre>\n"
      ],
      "text/plain": [
       "shape: \u001b[1m(\u001b[0m\u001b[1;36m5\u001b[0m, \u001b[1;36m2\u001b[0m\u001b[1m)\u001b[0m\n",
       "┌────────────┬───────┐\n",
       "│ identifier ┆ value │\n",
       "│ ---        ┆ ---   │\n",
       "│ str        ┆ i64   │\n",
       "╞════════════╪═══════╡\n",
       "│ A          ┆ \u001b[1;36m20\u001b[0m    │\n",
       "│ A          ┆ \u001b[1;36m40\u001b[0m    │\n",
       "│ B          ┆ \u001b[1;36m60\u001b[0m    │\n",
       "│ B          ┆ \u001b[1;36m80\u001b[0m    │\n",
       "│ C          ┆ \u001b[1;36m100\u001b[0m   │\n",
       "└────────────┴───────┘\n"
      ]
     },
     "metadata": {},
     "output_type": "display_data"
    }
   ],
   "source": [
    "selected_df = df.select([pl.col(\"identifier\"), pl.col(\"value\") * 2])  # You can apply expressions to columns\n",
    "print(selected_df)"
   ]
  },
  {
   "cell_type": "code",
   "execution_count": 4,
   "metadata": {},
   "outputs": [
    {
     "ename": "TypeError",
     "evalue": "the truth value of an Expr is ambiguous\n\nYou probably got here by using a Python standard library function instead of the native expressions API.\nHere are some things you might want to try:\n- instead of `pl.col('a') and pl.col('b')`, use `pl.col('a') & pl.col('b')`\n- instead of `pl.col('a') in [y, z]`, use `pl.col('a').is_in([y, z])`\n- instead of `max(pl.col('a'), pl.col('b'))`, use `pl.max_horizontal(pl.col('a'), pl.col('b'))`\n",
     "output_type": "error",
     "traceback": [
      "\u001b[0;31m---------------------------------------------------------------------------\u001b[0m",
      "\u001b[0;31mTypeError\u001b[0m                                 Traceback (most recent call last)",
      "\u001b[0;32m/tmp/ipykernel_166678/131183956.py\u001b[0m in \u001b[0;36m?\u001b[0;34m()\u001b[0m\n\u001b[0;32m----> 1\u001b[0;31m \u001b[0mfiltered_df\u001b[0m \u001b[0;34m=\u001b[0m \u001b[0mdf\u001b[0m\u001b[0;34m.\u001b[0m\u001b[0mfilter\u001b[0m\u001b[0;34m(\u001b[0m\u001b[0mpl\u001b[0m\u001b[0;34m.\u001b[0m\u001b[0mcol\u001b[0m\u001b[0;34m(\u001b[0m\u001b[0;34m\"value\"\u001b[0m\u001b[0;34m)\u001b[0m \u001b[0;34m>\u001b[0m \u001b[0;36m30\u001b[0m \u001b[0;34m&\u001b[0m \u001b[0mpl\u001b[0m\u001b[0;34m.\u001b[0m\u001b[0mcol\u001b[0m\u001b[0;34m(\u001b[0m\u001b[0;34m\"identifier\"\u001b[0m\u001b[0;34m)\u001b[0m \u001b[0;34m==\u001b[0m \u001b[0;34m\"A\"\u001b[0m\u001b[0;34m)\u001b[0m\u001b[0;34m\u001b[0m\u001b[0;34m\u001b[0m\u001b[0m\n\u001b[0m\u001b[1;32m      2\u001b[0m \u001b[0mprint\u001b[0m\u001b[0;34m(\u001b[0m\u001b[0mfiltered_df\u001b[0m\u001b[0;34m)\u001b[0m\u001b[0;34m\u001b[0m\u001b[0;34m\u001b[0m\u001b[0m\n",
      "\u001b[0;32m~/miniforge3/envs/TraderBot/lib/python3.12/site-packages/polars/expr/expr.py\u001b[0m in \u001b[0;36m?\u001b[0;34m(self)\u001b[0m\n\u001b[1;32m    153\u001b[0m             \u001b[0;34m\"- instead of `pl.col('a') and pl.col('b')`, use `pl.col('a') & pl.col('b')`\\n\"\u001b[0m\u001b[0;34m\u001b[0m\u001b[0;34m\u001b[0m\u001b[0m\n\u001b[1;32m    154\u001b[0m             \u001b[0;34m\"- instead of `pl.col('a') in [y, z]`, use `pl.col('a').is_in([y, z])`\\n\"\u001b[0m\u001b[0;34m\u001b[0m\u001b[0;34m\u001b[0m\u001b[0m\n\u001b[1;32m    155\u001b[0m             \u001b[0;34m\"- instead of `max(pl.col('a'), pl.col('b'))`, use `pl.max_horizontal(pl.col('a'), pl.col('b'))`\\n\"\u001b[0m\u001b[0;34m\u001b[0m\u001b[0;34m\u001b[0m\u001b[0m\n\u001b[1;32m    156\u001b[0m         \u001b[0;34m)\u001b[0m\u001b[0;34m\u001b[0m\u001b[0;34m\u001b[0m\u001b[0m\n\u001b[0;32m--> 157\u001b[0;31m         \u001b[0;32mraise\u001b[0m \u001b[0mTypeError\u001b[0m\u001b[0;34m(\u001b[0m\u001b[0mmsg\u001b[0m\u001b[0;34m)\u001b[0m\u001b[0;34m\u001b[0m\u001b[0;34m\u001b[0m\u001b[0m\n\u001b[0m",
      "\u001b[0;31mTypeError\u001b[0m: the truth value of an Expr is ambiguous\n\nYou probably got here by using a Python standard library function instead of the native expressions API.\nHere are some things you might want to try:\n- instead of `pl.col('a') and pl.col('b')`, use `pl.col('a') & pl.col('b')`\n- instead of `pl.col('a') in [y, z]`, use `pl.col('a').is_in([y, z])`\n- instead of `max(pl.col('a'), pl.col('b'))`, use `pl.max_horizontal(pl.col('a'), pl.col('b'))`\n"
     ]
    }
   ],
   "source": [
    "filtered_df = df.filter(pl.col(\"value\") > 30 & pl.col(\"identifier\") == \"A\")\n",
    "print(filtered_df)"
   ]
  },
  {
   "cell_type": "code",
   "execution_count": null,
   "metadata": {},
   "outputs": [],
   "source": [
    "df[df[\"identifier\"]==\"A\"]\n",
    "    #,[\"value\"]]"
   ]
  },
  {
   "cell_type": "code",
   "execution_count": null,
   "metadata": {},
   "outputs": [],
   "source": [
    "\n",
    "# Group by identifier\n",
    "grouped_df = df.group_by(\"identifier\")\n",
    "print(type(grouped_df))"
   ]
  },
  {
   "cell_type": "code",
   "execution_count": null,
   "metadata": {},
   "outputs": [],
   "source": [
    "\n",
    "\n",
    "# Calculate covariance within groups (replace with actual covariance formula)\n",
    "def calculate_covariance(group):\n",
    "  mean = group[\"value\"].mean()\n",
    "  variance = group[\"value\"].var()\n",
    "  # Covariance is variance minus squared mean (replace with desired formula if needed)\n",
    "  covariance = variance - mean**2\n",
    "  return pl.Series(\"covariance\", [covariance])\n"
   ]
  },
  {
   "cell_type": "code",
   "execution_count": null,
   "metadata": {},
   "outputs": [],
   "source": [
    "\n",
    "covariances = grouped_df.map_groups(calculate_covariance)\n",
    "print(covariances)"
   ]
  },
  {
   "cell_type": "code",
   "execution_count": null,
   "metadata": {},
   "outputs": [],
   "source": [
    "\n",
    "# Combine results back into a DataFrame\n",
    "result_df = pl.concat(covariances)\n",
    "result_df = result_df.rename(columns={\"identifier\": \"identifier\", \"covariance\": \"covariance_value\"})\n",
    "\n",
    "# Optional: Add timestamp information if relevant\n",
    "if \"timestamp\" in df.columns:\n",
    "  result_df = result_df.with_column(\"timestamp\", df[\"timestamp\"].argmax(groupby=\"identifier\"))\n",
    "\n",
    "print(result_df)\n"
   ]
  },
  {
   "cell_type": "code",
   "execution_count": null,
   "metadata": {},
   "outputs": [],
   "source": []
  }
 ],
 "metadata": {
  "kernelspec": {
   "display_name": "TraderBot",
   "language": "python",
   "name": "python3"
  },
  "language_info": {
   "codemirror_mode": {
    "name": "ipython",
    "version": 3
   },
   "file_extension": ".py",
   "mimetype": "text/x-python",
   "name": "python",
   "nbconvert_exporter": "python",
   "pygments_lexer": "ipython3",
   "version": "3.12.3"
  }
 },
 "nbformat": 4,
 "nbformat_minor": 2
}
